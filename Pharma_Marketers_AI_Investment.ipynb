{
  "nbformat": 4,
  "nbformat_minor": 0,
  "metadata": {
    "colab": {
      "provenance": [],
      "authorship_tag": "ABX9TyPC98IbQFcaH4Iewc+HnD7a",
      "include_colab_link": true
    },
    "kernelspec": {
      "name": "python3",
      "display_name": "Python 3"
    },
    "language_info": {
      "name": "python"
    }
  },
  "cells": [
    {
      "cell_type": "markdown",
      "metadata": {
        "id": "view-in-github",
        "colab_type": "text"
      },
      "source": [
        "<a href=\"https://colab.research.google.com/github/gbeyderman/gbeyderman/blob/gh-pages/Pharma_Marketers_AI_Investment.ipynb\" target=\"_parent\"><img src=\"https://colab.research.google.com/assets/colab-badge.svg\" alt=\"Open In Colab\"/></a>"
      ]
    },
    {
      "cell_type": "markdown",
      "source": [
        "# Measuring AI Investment in Pharmaceutical Marketing\n",
        "\n",
        "## Description\n",
        "\n",
        "This project aims to quantitatively assess the level of Artificial Intelligence (AI) investment among pharmaceutical marketers. By analyzing various data sources, we seek to understand the extent of AI adoption in pharma marketing and identify patterns, trends, and potential gaps influenced by perception bias in the industry.\n",
        "\n",
        "## Objectives\n",
        "\n",
        "- **Quantify AI Investment**: Determine the amount and nature of investment in AI by pharmaceutical marketing companies.\n",
        "- **Analyze Skill Demand**: Assess the demand for AI-related skills among pharma marketers by examining job postings and employee profiles.\n",
        "- **Identify Adoption Patterns**: Understand which areas within pharma marketing are most impacted by AI technologies.\n",
        "- **Address Perception Bias**: Compare actual AI investment and adoption with industry perceptions to identify gaps caused by response or perception bias.\n",
        "\n",
        "## Data Sources\n",
        "\n",
        "1. **Public Financial Reports**: Annual reports, SEC filings, and investor presentations from pharmaceutical companies detailing R&D and marketing expenditures.\n",
        "\n",
        "2. **Job Postings Data**: Aggregated data from job platforms like Indeed, Glassdoor, and LinkedIn (subject to terms of service) for AI-related positions in pharma marketing.\n",
        "\n",
        "3. **Professional Networking Data**:\n",
        "   - **LinkedIn Talent Insights**: A paid service providing aggregated data on industry hiring trends and in-demand skills.\n",
        "   - **Industry Surveys and Reports**: Studies conducted by reputable firms analyzing skill demands in the pharma sector.\n",
        "\n",
        "4. **Industry Publications**: Whitepapers, market research reports, and surveys on AI adoption in pharmaceutical marketing.\n",
        "\n",
        "5. **Patent Databases**: Information on AI-related patents filed by pharmaceutical companies relevant to marketing technologies.\n",
        "\n",
        "6. **News and Press Releases**: Announcements related to AI initiatives from pharma companies.\n",
        "\n",
        "**Note on LinkedIn Data Access**: Direct access to individual LinkedIn profiles is restricted, and scraping is against LinkedIn's [User Agreement](https://www.linkedin.com/legal/user-agreement). However, aggregated data can be obtained legally through LinkedIn's Talent Insights or third-party industry reports.\n",
        "\n",
        "## Methodology\n",
        "\n",
        "### 1. Data Collection\n",
        "\n",
        "- **Financial Analysis**: Extract AI-related investment data from financial reports.\n",
        "- **Job Market Analysis**: Collect aggregated data on AI-related job postings in pharma marketing.\n",
        "- **Skill Demand Assessment**: Identify AI-related skills required in job postings.\n",
        "- **Patent Analysis**: Compile data on relevant patents filed.\n",
        "- **Content Analysis**: Use NLP techniques to analyze industry publications and press releases for AI mentions.\n",
        "\n",
        "### 2. Data Cleaning and Preprocessing\n",
        "\n",
        "- Standardize data formats and terminologies.\n",
        "- Remove duplicates and irrelevant entries.\n",
        "- Ensure compliance with data privacy laws (e.g., GDPR).\n",
        "\n",
        "### 3. Data Analysis\n",
        "\n",
        "- **Quantitative Analysis**: Use statistical methods to quantify AI investments.\n",
        "- **Trend Analysis**: Identify patterns over time in AI adoption.\n",
        "- **Comparative Analysis**: Compare AI investments across different companies and sectors within pharma.\n",
        "- **Sentiment Analysis**: Assess industry perceptions versus actual investment levels.\n",
        "\n",
        "### 4. Visualization\n",
        "\n",
        "- Develop dashboards and visualizations using tools like Tableau or Python libraries (`matplotlib`, `seaborn`) to present findings effectively.\n",
        "\n",
        "### 5. Reporting\n",
        "\n",
        "- Compile a comprehensive report detailing methodologies, analyses, findings, and recommendations.\n",
        "\n",
        "## Expected Outcomes\n",
        "\n",
        "- A quantified measure of AI investment levels in pharma marketing.\n",
        "- Insights into the demand for AI-related skills and hiring trends.\n",
        "- Identification of gaps between perceived and actual AI adoption due to perception bias.\n",
        "- Actionable recommendations for stakeholders to bridge perception gaps and enhance AI integration.\n"
      ],
      "metadata": {
        "id": "R83EC65ppMGK"
      }
    },
    {
      "cell_type": "markdown",
      "source": [],
      "metadata": {
        "id": "Zy1f3UTyqZXL"
      }
    }
  ]
}